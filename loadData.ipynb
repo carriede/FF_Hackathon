{
 "cells": [
  {
   "cell_type": "code",
   "execution_count": null,
   "metadata": {},
   "outputs": [],
   "source": [
    "import matplotlib.pyplot as plt\n",
    "import matplotlib.image as mpimg\n",
    "import itertools\n",
    "import numpy as np\n"
   ]
  },
  {
   "attachments": {},
   "cell_type": "markdown",
   "metadata": {},
   "source": [
    "## Load labels"
   ]
  },
  {
   "cell_type": "code",
   "execution_count": null,
   "metadata": {},
   "outputs": [],
   "source": [
    "import pandas as pd\n",
    "dormer_label=pd.read_csv(\"\\\\FF_Hackathon\\\\Hackathon files\\\\dormer_labels.csv\", dtype={'filename':object})\n",
    "roof_label=pd.read_csv(\"\\\\FF_Hackathon\\\\Hackathon files\\\\rooftype_labels.csv\", dtype={'id':object})"
   ]
  },
  {
   "cell_type": "code",
   "execution_count": null,
   "metadata": {},
   "outputs": [],
   "source": [
    "dormer_label.head"
   ]
  },
  {
   "cell_type": "code",
   "execution_count": null,
   "metadata": {},
   "outputs": [],
   "source": [
    "roof_label.head"
   ]
  },
  {
   "cell_type": "code",
   "execution_count": null,
   "metadata": {},
   "outputs": [],
   "source": [
    "dormer_label.set_axis(['id', 'dormer_label'], axis='columns', inplace=True)\n",
    "dormer_label.head"
   ]
  },
  {
   "cell_type": "code",
   "execution_count": null,
   "metadata": {},
   "outputs": [],
   "source": [
    "roof_label.set_axis(['id', 'roof_label', 'labled_by'], axis='columns', inplace=True)\n",
    "roof_label.head"
   ]
  },
  {
   "cell_type": "code",
   "execution_count": null,
   "metadata": {},
   "outputs": [],
   "source": [
    "all_label = pd.merge(dormer_label, roof_label, on = \"id\", how = \"inner\")\n",
    "all_label.head\n",
    "# for the 327 duplicate IDs, they all should be 'no_dormers'. [investigated by Group 2]"
   ]
  },
  {
   "attachments": {},
   "cell_type": "markdown",
   "metadata": {},
   "source": [
    "dormer = pd.read_csv('dormer_labels.csv')\n",
    "rooftype = pd.read_csv('rooftype_labels.csv')\n",
    "dormer = dormer.rename(columns={'filename':'id'})\n",
    "combined = pd.merge(dormer, rooftype, on=['id'], how='inner')"
   ]
  },
  {
   "cell_type": "code",
   "execution_count": null,
   "metadata": {},
   "outputs": [],
   "source": [
    "all_label = all_label.sort_values(['dormer_label'])\n",
    "all_label = all_label.drop_duplicates(subset=['id'], keep='last')"
   ]
  },
  {
   "cell_type": "code",
   "execution_count": null,
   "metadata": {},
   "outputs": [],
   "source": [
    "all_label.head"
   ]
  },
  {
   "cell_type": "code",
   "execution_count": null,
   "metadata": {},
   "outputs": [],
   "source": [
    "True in all_label.id.duplicated()\n"
   ]
  },
  {
   "attachments": {},
   "cell_type": "markdown",
   "metadata": {},
   "source": [
    "## Load images"
   ]
  },
  {
   "cell_type": "code",
   "execution_count": null,
   "metadata": {},
   "outputs": [],
   "source": [
    "import os\n",
    "import PIL\n",
    "import tensorflow as tf\n",
    "import pathlib"
   ]
  },
  {
   "cell_type": "code",
   "execution_count": null,
   "metadata": {},
   "outputs": [],
   "source": [
    "images_dir = pathlib.Path(r\"\\FF_Hackathon\\Hackathon files\\Nadir afbeeldingen\")\n",
    "images_dir.as_posix()"
   ]
  },
  {
   "cell_type": "code",
   "execution_count": null,
   "metadata": {},
   "outputs": [],
   "source": [
    "houses =list(images_dir.glob(\".\\\\*.jpg\"))\n",
    "\n",
    "imageCount=len(houses)\n",
    "imageCount"
   ]
  },
  {
   "cell_type": "code",
   "execution_count": null,
   "metadata": {},
   "outputs": [],
   "source": [
    "im = PIL.Image.open(houses[21969])\n",
    "\n",
    "# This method will show image in any image viewer\n",
    "im.show()"
   ]
  },
  {
   "attachments": {},
   "cell_type": "markdown",
   "metadata": {},
   "source": [
    "## Match images with labels"
   ]
  },
  {
   "cell_type": "code",
   "execution_count": null,
   "metadata": {},
   "outputs": [],
   "source": [
    "len(str(max(all_label.id)))\n",
    "\n"
   ]
  },
  {
   "cell_type": "code",
   "execution_count": null,
   "metadata": {},
   "outputs": [],
   "source": [
    "len(str(min(all_label.id)))"
   ]
  },
  {
   "cell_type": "code",
   "execution_count": null,
   "metadata": {},
   "outputs": [],
   "source": [
    "all_label = all_label.sort_values(['id'])\n",
    "all_label.head\n",
    "# confirmed no more duplicate IDs"
   ]
  },
  {
   "cell_type": "code",
   "execution_count": null,
   "metadata": {},
   "outputs": [],
   "source": [
    "import glob"
   ]
  },
  {
   "cell_type": "code",
   "execution_count": null,
   "metadata": {},
   "outputs": [],
   "source": [
    "# get only filenames instead of full paths of images\n",
    "all_path_list=[os.path.basename(x) for x in glob.glob(r\"\\FF_Hackathon\\Hackathon files\\Nadir afbeeldingen\\*.jpg\")]\n",
    "\n"
   ]
  },
  {
   "cell_type": "code",
   "execution_count": null,
   "metadata": {},
   "outputs": [],
   "source": [
    "df_all_path=pd.DataFrame(all_path_list)\n",
    "df_all_path"
   ]
  },
  {
   "cell_type": "code",
   "execution_count": null,
   "metadata": {},
   "outputs": [],
   "source": [
    "# remove file extensions for id matching\n",
    "df_all_path[0] = df_all_path[0].str.rstrip('.jpg')\n",
    "df_all_path\n"
   ]
  },
  {
   "cell_type": "code",
   "execution_count": null,
   "metadata": {},
   "outputs": [],
   "source": [
    "df_all_path.rename(columns = {0:'id'}, inplace = True)\n",
    "df_all_path['path_index'] = df_all_path.index\n",
    "df_all_path"
   ]
  },
  {
   "cell_type": "code",
   "execution_count": null,
   "metadata": {},
   "outputs": [],
   "source": [
    "all_label = pd.merge(all_label, df_all_path, on = \"id\", how = \"inner\")\n",
    "all_label.head"
   ]
  },
  {
   "cell_type": "code",
   "execution_count": null,
   "metadata": {},
   "outputs": [],
   "source": [
    "# add a column with full path of image for each ID\n",
    "all_label['path']= \"\\\\FF_Hackathon\\\\Hackathon files\\\\Nadir afbeeldingen\\\\\" + all_label['id'] + \".jpg\"\n",
    "\n",
    "all_label.head"
   ]
  },
  {
   "cell_type": "code",
   "execution_count": null,
   "metadata": {},
   "outputs": [],
   "source": [
    "all_label['path'][0]"
   ]
  },
  {
   "cell_type": "code",
   "execution_count": null,
   "metadata": {},
   "outputs": [],
   "source": [
    "all_label.info()"
   ]
  },
  {
   "cell_type": "code",
   "execution_count": null,
   "metadata": {},
   "outputs": [],
   "source": [
    "all_label.sample"
   ]
  },
  {
   "cell_type": "code",
   "execution_count": null,
   "metadata": {},
   "outputs": [],
   "source": [
    "all_label[\"dormer_label\"].unique()"
   ]
  },
  {
   "cell_type": "code",
   "execution_count": null,
   "metadata": {},
   "outputs": [],
   "source": [
    "all_label[\"roof_label\"].unique()"
   ]
  },
  {
   "cell_type": "code",
   "execution_count": null,
   "metadata": {},
   "outputs": [],
   "source": [
    "all_label.to_csv('all_label.csv')\n",
    "# for examination of data and storing interim result"
   ]
  },
  {
   "attachments": {},
   "cell_type": "markdown",
   "metadata": {},
   "source": [
    "## extract paths according to labels"
   ]
  },
  {
   "cell_type": "code",
   "execution_count": null,
   "metadata": {},
   "outputs": [],
   "source": [
    "\n",
    "\n",
    "dormer_list=all_label[all_label['dormer_label']==\"dormers\"]['path']\n",
    "nodormer_list=all_label[all_label['dormer_label']==\"no_dormers\"]['path']\n",
    "\n",
    "# combinatie: 80\n",
    "# dwarskap: 39\n",
    "# langskap: 733\n",
    "# platdak: 26\n",
    "# schilddak: 3\n",
    "\n",
    "\n",
    "langskap_list=all_label[all_label['roof_label']==\"langskap\"]['path']\n",
    "combinatie_list=all_label[all_label['roof_label']==\"combinatie\"]['path']\n",
    "dwarskap_list=all_label[all_label['roof_label']==\"dwarskap\"]['path']\n",
    "platdak_list=all_label[all_label['roof_label']==\"platdak\"]['path']\n",
    "schilddak_list=all_label[all_label['roof_label']==\"schilddak\"]['path']\n",
    "\n"
   ]
  },
  {
   "cell_type": "code",
   "execution_count": null,
   "metadata": {},
   "outputs": [],
   "source": [
    "dormer_list.head"
   ]
  },
  {
   "cell_type": "code",
   "execution_count": null,
   "metadata": {},
   "outputs": [],
   "source": [
    "nodormer_list.head"
   ]
  },
  {
   "cell_type": "code",
   "execution_count": null,
   "metadata": {},
   "outputs": [],
   "source": [
    "langskap_list.head"
   ]
  },
  {
   "cell_type": "code",
   "execution_count": null,
   "metadata": {},
   "outputs": [],
   "source": [
    "combinatie_list.head"
   ]
  },
  {
   "cell_type": "code",
   "execution_count": null,
   "metadata": {},
   "outputs": [],
   "source": [
    "dwarskap_list.head"
   ]
  },
  {
   "cell_type": "code",
   "execution_count": null,
   "metadata": {},
   "outputs": [],
   "source": [
    "platdak_list.head"
   ]
  },
  {
   "cell_type": "code",
   "execution_count": null,
   "metadata": {},
   "outputs": [],
   "source": [
    "schilddak_list.head"
   ]
  },
  {
   "cell_type": "code",
   "execution_count": null,
   "metadata": {},
   "outputs": [],
   "source": []
  },
  {
   "attachments": {},
   "cell_type": "markdown",
   "metadata": {},
   "source": [
    "## copy valid files to another folder"
   ]
  },
  {
   "cell_type": "code",
   "execution_count": null,
   "metadata": {},
   "outputs": [],
   "source": [
    "all_label.index.size"
   ]
  },
  {
   "cell_type": "code",
   "execution_count": null,
   "metadata": {},
   "outputs": [],
   "source": [
    "# https://stackoverflow.com/questions/33625931/copy-file-with-pathlib-in-python\n",
    "\n",
    "import pathlib\n",
    "import shutil\n",
    "\n",
    "for i in range(all_label.index.size):\n",
    "    from_file = pathlib.Path(all_label.path[i])\n",
    "    to_file = pathlib.Path(r'\\FF_Hackathon\\Group3_1\\ValidImage')\n",
    "    shutil.copy(from_file, to_file)  # For Python 3.8+\n"
   ]
  },
  {
   "cell_type": "code",
   "execution_count": null,
   "metadata": {},
   "outputs": [],
   "source": [
    "# add a column with new full path of image for each ID\n",
    "all_label['new_path']= \"\\\\FF_Hackathon\\\\Group3_1\\\\ValidImage\\\\\" + all_label['id'] + \".jpg\"\n",
    "\n",
    "all_label.head"
   ]
  },
  {
   "cell_type": "code",
   "execution_count": null,
   "metadata": {},
   "outputs": [],
   "source": [
    "all_label.new_path[0]"
   ]
  },
  {
   "cell_type": "code",
   "execution_count": null,
   "metadata": {},
   "outputs": [],
   "source": [
    "all_label.new_path[882]"
   ]
  },
  {
   "cell_type": "markdown",
   "metadata": {},
   "source": [
    "## Build Dataset"
   ]
  },
  {
   "cell_type": "code",
   "execution_count": null,
   "metadata": {},
   "outputs": [],
   "source": [
    "#import tensorflow as tf\n",
    "from tensorflow import keras\n",
    "#import pandas as pd"
   ]
  },
  {
   "cell_type": "code",
   "execution_count": null,
   "metadata": {},
   "outputs": [],
   "source": [
    "#https://stackoverflow.com/questions/62716533/mapping-images-and-their-labels\n",
    "#https://www.tensorflow.org/api_docs/python/tf/keras/utils/Sequence"
   ]
  },
  {
   "cell_type": "code",
   "execution_count": null,
   "metadata": {},
   "outputs": [],
   "source": []
  },
  {
   "cell_type": "code",
   "execution_count": null,
   "metadata": {},
   "outputs": [],
   "source": []
  },
  {
   "cell_type": "code",
   "execution_count": null,
   "metadata": {},
   "outputs": [],
   "source": []
  }
 ],
 "metadata": {
  "kernelspec": {
   "display_name": "frTraining",
   "language": "python",
   "name": "python3"
  },
  "language_info": {
   "codemirror_mode": {
    "name": "ipython",
    "version": 3
   },
   "file_extension": ".py",
   "mimetype": "text/x-python",
   "name": "python",
   "nbconvert_exporter": "python",
   "pygments_lexer": "ipython3",
   "version": "3.9.13"
  },
  "orig_nbformat": 4,
  "vscode": {
   "interpreter": {
    "hash": "5f5401be400f6a510c176d37df3e8fc4b44b39c28893aef2a6aabad74fd809c7"
   }
  }
 },
 "nbformat": 4,
 "nbformat_minor": 2
}
